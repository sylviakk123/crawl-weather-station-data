{
 "cells": [
  {
   "cell_type": "code",
   "execution_count": null,
   "metadata": {},
   "outputs": [],
   "source": [
    "#爬取站点名称\n",
    "from requests_toolbelt import SSLAdapter\n",
    "import requests\n",
    "import json\n",
    "import pandas as pd\n",
    "\n",
    "def get_data():\n",
    "    url = \"https://weather.121.com.cn/szqx/api/obt/list.do\"\n",
    "    data = {\n",
    "       \"tokenId\": \"替换网页内容\",\n",
    "        \"token\": \"替换网页内容\"\n",
    "    }\n",
    "    adapter = SSLAdapter('TLSv1')\n",
    "    s = requests.Session()\n",
    "    s.mount('https://', adapter)\n",
    "    res = s.post(url=url,verify=False,data=data).text\n",
    "    return res\n",
    "\n",
    "data = get_data()\n",
    "Json_data=json.loads(data)\n",
    "if 'data' in Json_data.keys():\n",
    "    df = pd.DataFrame.from_dict(Json_data['data'], orient='index')\n",
    "    df.to_csv('test.csv', mode='a', index=True, header=True,encoding = 'utf_8_sig')"
   ]
  }
 ],
 "metadata": {
  "kernelspec": {
   "display_name": "Python [conda env:Anaconda3]",
   "language": "python",
   "name": "conda-env-Anaconda3-py"
  },
  "language_info": {
   "codemirror_mode": {
    "name": "ipython",
    "version": 3
   },
   "file_extension": ".py",
   "mimetype": "text/x-python",
   "name": "python",
   "nbconvert_exporter": "python",
   "pygments_lexer": "ipython3",
   "version": "3.6.4"
  }
 },
 "nbformat": 4,
 "nbformat_minor": 2
}
