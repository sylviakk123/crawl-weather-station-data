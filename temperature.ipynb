{
 "cells": [
  {
   "cell_type": "code",
   "execution_count": null,
   "metadata": {},
   "outputs": [],
   "source": [
    "#爬取深圳市气温\n",
    "from requests_toolbelt import SSLAdapter\n",
    "import requests\n",
    "import json\n",
    "import pandas as pd\n",
    "import warnings\n",
    "warnings.filterwarnings(\"ignore\")\n",
    "\n",
    "def get_data(datetime):\n",
    "    url = \"https://weather.121.com.cn/szqx/api/obt/data.do\"\n",
    "    data = {\n",
    "        \"dataType\":\"json\",\n",
    "        \"area\":\"all\",\n",
    "        \"datetime\":datetime,\n",
    "        \"qType\":\"TemperatureM\",\n",
    "        \"tokenId\":\"替换网页上内容\",\n",
    "        \"token\":\"替换网页上内容\"\n",
    "    }\n",
    "    adapter = SSLAdapter('TLSv1')\n",
    "    s = requests.Session()\n",
    "    s.mount('https://', adapter)\n",
    "    res = s.post(url=url,verify=False,data=data).text\n",
    "    return res\n",
 
    "result=pd.DataFrame()\n",
    "if __name__ == \"__main__\":\n",
    "    for i in range(1,15):\n",
    "        for j in range(0,24):\n",
    "            hour = str(j)\n",
    "            day = str(i)\n",
    "            if i < 10 :\n",
    "                datetime = '2020-07-0'+day+'-'+hour+'-0'\n",
    "            else:\n",
    "                datetime = '2020-07-'+day+'-'+hour+'-0'\n",
    "            data = get_data(datetime)\n",
    "            apt_info = json.loads(data)\n",
    "            apt_info['D']=datetime\n",
    "            df = pd.DataFrame.from_dict(apt_info, orient='columns')\n",
    "            result = result.append(df)\n",
    "    result.to_csv('test.csv', mode='a', index=True, header=True, encoding = 'utf_8_sig')"
   ]
  }
 ],
 "metadata": {
  "kernelspec": {
   "display_name": "Python [conda env:Anaconda3]",
   "language": "python",
   "name": "conda-env-Anaconda3-py"
  },
  "language_info": {
   "codemirror_mode": {
    "name": "ipython",
    "version": 3
   },
   "file_extension": ".py",
   "mimetype": "text/x-python",
   "name": "python",
   "nbconvert_exporter": "python",
   "pygments_lexer": "ipython3",
   "version": "3.6.4"
  }
 },
 "nbformat": 4,
 "nbformat_minor": 2
}
